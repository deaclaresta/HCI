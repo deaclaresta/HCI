{
  "nbformat": 4,
  "nbformat_minor": 0,
  "metadata": {
    "colab": {
      "name": "Selamat Datang di Colaboratory",
      "provenance": [],
      "collapsed_sections": []
    },
    "kernelspec": {
      "display_name": "Python 3",
      "name": "python3"
    }
  },
  "cells": [
    {
      "cell_type": "code",
      "metadata": {
        "colab": {
          "base_uri": "https://localhost:8080/",
          "height": 1000
        },
        "id": "SpTT2T0Y_SnA",
        "outputId": "ea8ba7a1-c09b-4f90-c381-4bad9d7cee31"
      },
      "source": [
        "# No.1\n",
        "import pandas as pd\n",
        "import numpy as np\n",
        "from sklearn.linear_model import LinearRegression\n",
        "import matplotlib.pyplot as plt\n",
        "from sklearn.model_selection import train_test_split\n",
        "from sklearn import metrics\n",
        "\n",
        "data= pd.read_csv('/input/titanic.txt')\n",
        "# print(data.describe())\n",
        "# No.1a\n",
        "\n",
        "del data['Name']\n",
        "del data['Sex']\n",
        "del data['Ticket']\n",
        "del data['Fare']\n",
        "del data['Cabin']\n",
        "del data['Embarked']\n",
        "# ANALISIS: pada nomor ini dilakukan penghapusan kolom Name, Sex,Ticket, Fare, Cabin, dan Embarked, untuk melihat hasil\n",
        "# dapat menggunakan print(data) untuk melihat kolom yang tersisa, Jika hal ini dilakukan, maka akan terlihat sudah terhapusnya kolom tersebut\n",
        "\n",
        "# No.1b\n",
        "# untuk periksa missing value\n",
        "print(\"Sebelum diisi :\")\n",
        "print(data.isnull().sum())   \n",
        "# untuk mengisi missing value dengan nilai rata-rata   \n",
        "data=data.fillna(data.mean())\n",
        "# untuk mengecek semua missing value sudah terisi atau belum\n",
        "print(\"\")\n",
        "print(\"Setelah diisi :\")\n",
        "print(data.isnull().sum())\n",
        "# ANALISIS:pada nomor ini, dilakukan pengisian data yang kosong dengan nilai rata-rata, berdasarkan code print(data.isnull().sum()) dapat\n",
        "# dilihat jika pada kolom age terdapat data yang kosong, oleh sebab itu dilakukan pengisian dengan data mean, lalu diprint kembali \n",
        "# hasil akhir print pun terlihat jika semua kolom sudah tidak memiliki data yang kosong lagi\n",
        "print(\"\")\n",
        "\n",
        "# No.1c\n",
        "plt.scatter(PassengerId,Survived,color='Red')\n",
        "plt.show()\n",
        "plt.scatter(Pclass,Survived,color='Blue')\n",
        "plt.show()\n",
        "plt.scatter(Age,Survived,color='Orange')\n",
        "plt.show()\n",
        "plt.scatter(SibSp,Survived,color='Green')\n",
        "plt.show()\n",
        "plt.scatter(Parch,Survived,color='Black')\n",
        "plt.show()\n",
        "print(\"\")\n",
        "# ANALISIS: Berikut hubungan 2 atau 3 variable yang terdapat dalam grafik:\n",
        "# Berdasarkan visualisasi yang pertama (PassengerId dengan Survived), dapat dilihat jika Passenger Id tidak mempengaruhi keselamatan penumpang.\n",
        "#  Hal ini dikarenakan bentuk grafik yang terbentuk seperti lambang sama dengan(=)\n",
        "# Berdasarkan visualisasi yang ketiga (Age dengan Survived), dapat dilihat jika dari umur 60 ke atas, jumlah penumpang yang selamat semakin sedikit.\n",
        "#  Oleh sebab itu, umur dapat mempengaruhi tingkat keselamatan para penumpang kapal\n",
        "# Berdasarkan visualisasi yang keempat(SibSp dengan Survived), maka didapatkan kesimpulan jika nilai SibSp mempengaruhi keselamatan awak kapal, \n",
        "# dimana awak yang memiliki SibSp yang lebih besar dari empat, maka tidak selamat.\n",
        "\n",
        "# No.1d\n",
        "print(\"Correlation dari independent variable dengan dependent variable:\")\n",
        "correlation=data.corr()\n",
        "print(correlation)\n",
        "print(\"\")\n",
        "# ANALISIS: Berdasarkan hasil print correlation, correlation antar variabel tidak terlalu bagus dikarenakan terdapat\n",
        "#  beberapa yang menghasilkan nilai  mendekati -1\n"
      ],
      "execution_count": 4,
      "outputs": [
        {
          "output_type": "stream",
          "text": [
            "Sebelum diisi :\n",
            "PassengerId      0\n",
            "Survived         0\n",
            "Pclass           0\n",
            "Age            177\n",
            "SibSp            0\n",
            "Parch            0\n",
            "dtype: int64\n",
            "\n",
            "Setelah diisi :\n",
            "PassengerId    0\n",
            "Survived       0\n",
            "Pclass         0\n",
            "Age            0\n",
            "SibSp          0\n",
            "Parch          0\n",
            "dtype: int64\n",
            "\n"
          ],
          "name": "stdout"
        },
        {
          "output_type": "display_data",
          "data": {
            "image/png": "[encoded data removed]",
            "text/plain": [
              "<Figure size 432x288 with 1 Axes>"
            ]
          },
          "metadata": {
            "tags": [],
            "needs_background": "light"
          }
        },
        {
          "output_type": "display_data",
          "data": {
            "image/png": "[encoded data removed]",
            "text/plain": [
              "<Figure size 432x288 with 1 Axes>"
            ]
          },
          "metadata": {
            "tags": [],
            "needs_background": "light"
          }
        },
        {
          "output_type": "display_data",
          "data": {
            "image/png": "[encoded data removed]",
            "text/plain": [
              "<Figure size 432x288 with 1 Axes>"
            ]
          },
          "metadata": {
            "tags": [],
            "needs_background": "light"
          }
        },
        {
          "output_type": "display_data",
          "data": {
            "image/png": "[encoded data removed]",
            "text/plain": [
              "<Figure size 432x288 with 1 Axes>"
            ]
          },
          "metadata": {
            "tags": [],
            "needs_background": "light"
          }
        },
        {
          "output_type": "display_data",
          "data": {
            "image/png": "[encoded data removed]",
            "text/plain": [
              "<Figure size 432x288 with 1 Axes>"
            ]
          },
          "metadata": {
            "tags": [],
            "needs_background": "light"
          }
        },
        {
          "output_type": "stream",
          "text": [
            "\n",
            "Correlation dari independent variable dengan dependent variable:\n",
            "             PassengerId  Survived    Pclass       Age     SibSp     Parch\n",
            "PassengerId     1.000000 -0.005007 -0.035144  0.033207 -0.057527 -0.001652\n",
            "Survived       -0.005007  1.000000 -0.338481 -0.069809 -0.035322  0.081629\n",
            "Pclass         -0.035144 -0.338481  1.000000 -0.331339  0.083081  0.018443\n",
            "Age             0.033207 -0.069809 -0.331339  1.000000 -0.232625 -0.179191\n",
            "SibSp          -0.057527 -0.035322  0.083081 -0.232625  1.000000  0.414838\n",
            "Parch          -0.001652  0.081629  0.018443 -0.179191  0.414838  1.000000\n",
            "\n"
          ],
          "name": "stdout"
        }
      ]
    },
    {
      "cell_type": "code",
      "metadata": {
        "colab": {
          "base_uri": "https://localhost:8080/"
        },
        "id": "LOe5n_gqFqzi",
        "outputId": "92474bb5-257f-4157-a659-c183e502f43f"
      },
      "source": [
        "# No.2\n",
        "import pandas as pd\n",
        "import numpy as np\n",
        "from sklearn.linear_model import LinearRegression\n",
        "import matplotlib.pyplot as plt\n",
        "from sklearn.model_selection import train_test_split\n",
        "from sklearn import metrics\n",
        "\n",
        "data= pd.read_csv('/input/titanic.txt')\n",
        "del data['Name']\n",
        "del data['Sex']\n",
        "del data['Ticket']\n",
        "del data['Fare']\n",
        "del data['Cabin']\n",
        "del data['Embarked']\n",
        "  \n",
        "data=data.fillna(data.mean())\n",
        "# No.2\n",
        "# untuk memisahkan kolom independent(x) dengan kolom dependent(y)\n",
        "y=data.Survived\n",
        "x=data.drop('Survived',axis=1)\n",
        "# untuk membagi data train set(70%) dengan test set(30%)\n",
        "x_train,x_test,y_train,y_test=train_test_split(x,y,test_size=0.3)\n",
        "# untuk print training set\n",
        "print(x_train)\n",
        "print(y_train)\n",
        "# ANALISIS: berdasarkan hasil print x_train dan y_train maka dapat dilihat jika data sudah terbagi antara train set dan test set, lalu antara data yang independent dengan dependent juga sudah terpisah"
      ],
      "execution_count": 5,
      "outputs": [
        {
          "output_type": "stream",
          "text": [
            "     PassengerId  Pclass        Age  SibSp  Parch\n",
            "654          655       3  18.000000      0      0\n",
            "358          359       3  29.699118      0      0\n",
            "548          549       3  33.000000      1      1\n",
            "750          751       2   4.000000      1      1\n",
            "669          670       1  29.699118      1      0\n",
            "..           ...     ...        ...    ...    ...\n",
            "60            61       3  22.000000      0      0\n",
            "647          648       1  56.000000      0      0\n",
            "599          600       1  49.000000      1      0\n",
            "383          384       1  35.000000      1      0\n",
            "335          336       3  29.699118      0      0\n",
            "\n",
            "[623 rows x 5 columns]\n",
            "654    0\n",
            "358    1\n",
            "548    0\n",
            "750    1\n",
            "669    1\n",
            "      ..\n",
            "60     0\n",
            "647    1\n",
            "599    1\n",
            "383    1\n",
            "335    0\n",
            "Name: Survived, Length: 623, dtype: int64\n"
          ],
          "name": "stdout"
        }
      ]
    },
    {
      "cell_type": "code",
      "metadata": {
        "colab": {
          "base_uri": "https://localhost:8080/"
        },
        "id": "tuB5okC9H7Wv",
        "outputId": "30d40547-53fb-458b-e8be-9d09575436dd"
      },
      "source": [
        "# No.3\n",
        "import pandas as pd\n",
        "import numpy as np\n",
        "from sklearn.linear_model import LinearRegression\n",
        "import matplotlib.pyplot as plt\n",
        "from sklearn.model_selection import train_test_split\n",
        "from sklearn import metrics\n",
        "\n",
        "data= pd.read_csv('/input/titanic.txt')\n",
        "del data['Name']\n",
        "del data['Sex']\n",
        "del data['Ticket']\n",
        "del data['Fare']\n",
        "del data['Cabin']\n",
        "del data['Embarked']\n",
        "  \n",
        "data=data.fillna(data.mean())\n",
        "y=data.Survived\n",
        "x=data.drop('Survived',axis=1)\n",
        "x_train,x_test,y_train,y_test=train_test_split(x,y,test_size=0.3)\n",
        "# No.3a\n",
        "# untuk melakukan pembelajaran\n",
        "Belajar=LinearRegression().fit(x_train,y_train)\n",
        "# untuk menyimpan hasil prediksi\n",
        "hasilPrediksi=Belajar.predict(x_test)\n",
        "\n",
        "# No.3b\n",
        "# untuk print hasil prediksi\n",
        "print(\"Hasil Prediksi:\")\n",
        "print(hasilPrediksi)\n",
        "# untuk print hasil aktual atau sebenarnya\n",
        "print(\"\")\n",
        "print(\"Data Aktual:\")\n",
        "print(y_test)\n",
        "# ANALISIS: berdasarkan hasil print dapat dilihat jika hasilPrediksi dan y_test dapat dilihat(proses training dan hasil prediksi dapat berjalan)\n"
      ],
      "execution_count": 9,
      "outputs": [
        {
          "output_type": "stream",
          "text": [
            "Hasil Prediksi:\n",
            "[ 0.13940216  0.60925592  0.19490255  0.24735825  0.67416974  0.26262655\n",
            "  0.59306273  0.20906816  0.66554073  0.16706171  0.2174196   0.04868847\n",
            "  0.17962936  0.29157488  0.43477895  0.25259406  0.23042363  0.43592125\n",
            "  0.39868045  0.5724404   0.22305934  0.50308335  0.40284719  0.22532685\n",
            "  0.61251211  0.23783114  0.21629947  0.23478918  0.32668657  0.39664778\n",
            "  0.19346184  0.18495316  0.15877055  0.47239155  0.66657371  0.23086\n",
            "  0.37345327  0.72686974  0.08612034  0.22623441  0.18757142  0.45639482\n",
            "  0.30444902  0.18530226  0.25655876  0.33696423  0.19943896  0.18451678\n",
            "  0.27671415  0.20732278  0.26054808  0.39364088  0.18745086  0.23129009\n",
            "  0.6483444   0.33703563  0.35304468  0.59478289  0.19938072  0.3165875\n",
            "  0.19830629  0.13374679  0.52502145  0.46662452  0.25829302  0.17709647\n",
            "  0.1886758   0.22693261  0.26760779  0.33447434  0.47717585  0.24167268\n",
            "  0.13316176  0.63552902  0.24459079  0.2251871   0.14509401  0.24878\n",
            "  0.83619652  0.6582572   0.40495259  0.18131459  0.25846757  0.07366332\n",
            "  0.28381402  0.70277072  0.15955603  0.66903955  0.58772604  0.6323839\n",
            "  0.2026465   0.27733892  0.1169519   0.37627451  0.3444845   0.4646269\n",
            "  0.71553827  0.46689003  0.52892515  0.17640361  0.17413101  0.58358465\n",
            "  0.49155756  0.34494974  0.45171996  0.6008525   0.21075186  0.16243611\n",
            "  0.37586656  0.40225651  0.16226156  0.40544652  0.57144201  0.4218911\n",
            "  0.54313519  0.44827669  0.56222775  0.41497859  0.2324074   0.20768455\n",
            "  0.20834296  0.45337359  0.27190963  0.43293848  0.21625021  0.27674471\n",
            "  0.62441993  0.20363009  0.40618461  0.07903803  0.51108439  0.42102121\n",
            "  0.43346214  0.45988704  0.64905349  0.53305007  0.64783164  0.26795524\n",
            "  0.33046571  0.26112242  0.21181514  0.35139783  0.60061566  0.56816305\n",
            " -0.01559832  0.64753653 -0.06454927  0.58274826  0.20778615  0.18279827\n",
            "  0.13085876  0.5431032   0.80409186  0.19874267  0.24474307  0.18312038\n",
            "  0.38604605  0.18980435  0.57929549  0.18992785  0.2829692   0.28646317\n",
            "  0.20319371  0.19350614  0.26089861  0.26382796  0.47426543  0.71652495\n",
            "  0.6522352   0.16769833  0.18078964  0.18818235  0.45269895  0.27117649\n",
            "  0.3298902   0.31103505  0.63226039  0.25113926  0.24069998  0.2493149\n",
            "  0.28122665  0.14549238  0.23960507  0.48093472  0.21401586  0.28051482\n",
            "  0.53678635  0.30562383  0.11261348  0.22789264  0.6514972   0.40759369\n",
            "  0.43801313  0.3896794   0.58422092  0.10207708  0.18627532  0.36505873\n",
            "  0.62522732  0.37791651  0.22108516  0.11565852  0.25240755  0.47096805\n",
            "  0.6667003   0.56088334  0.39029706  0.19132426  0.35507971  0.37578436\n",
            "  0.14551772  0.47212451  0.36622352  0.60972925  0.35054247  0.28144634\n",
            "  0.58705635  0.18269051  0.43701009  0.26941358  0.30315398  0.4181379\n",
            "  0.23671066  0.39825272  0.64927909  0.53617043  0.4600901   0.18207307\n",
            "  0.1957753   0.6145944   0.24089845  0.57614385  0.51016737  0.26784262\n",
            "  0.46900191  0.42520899  0.28609585  0.23208186  0.69374334  0.46835449\n",
            "  0.69117577  0.48984345  0.40216651  0.43580386  0.18120032  0.65420595\n",
            "  0.57197703  0.11967319  0.58873555  0.47074907  0.21061212  0.57406062\n",
            "  0.6128219   0.58462236  0.03762984  0.37100305  0.4992514   0.18273812\n",
            "  0.29178142  0.54915871  0.5029755   0.61389216  0.24633487  0.37668697\n",
            "  0.16037987  0.22317031  0.76204467  0.91545808]\n",
            "\n",
            "Data Aktual:\n",
            "85     1\n",
            "740    1\n",
            "454    0\n",
            "640    0\n",
            "781    1\n",
            "      ..\n",
            "448    1\n",
            "744    1\n",
            "836    0\n",
            "97     1\n",
            "445    1\n",
            "Name: Survived, Length: 268, dtype: int64\n"
          ],
          "name": "stdout"
        }
      ]
    },
    {
      "cell_type": "code",
      "metadata": {
        "colab": {
          "base_uri": "https://localhost:8080/"
        },
        "id": "h4kr_jWeI6H7",
        "outputId": "ef1ca5f8-5cda-43b9-b3ae-b90cb069d929"
      },
      "source": [
        "## No.4\n",
        " \n",
        "import pandas as pd\n",
        "import numpy as np\n",
        "from sklearn.linear_model import LinearRegression\n",
        "import matplotlib.pyplot as plt\n",
        "from sklearn.model_selection import train_test_split\n",
        "from sklearn import metrics\n",
        "\n",
        "data= pd.read_csv('/input/titanic.txt')\n",
        "Survived=data['Survived']\n",
        "del data['Name']\n",
        "del data['Sex']\n",
        "del data['Ticket']\n",
        "del data['Fare']\n",
        "del data['Cabin']\n",
        "del data['Embarked']\n",
        "  \n",
        "data=data.fillna(data.mean())\n",
        "y=data.Survived\n",
        "x=data.drop('Survived',axis=1)\n",
        "x_train,x_test,y_train,y_test=train_test_split(x,y,test_size=0.3)\n",
        "\n",
        "Belajar=LinearRegression().fit(x_train,y_train)\n",
        "hasilPrediksi=Belajar.predict(x_test)\n",
        "\n",
        "# No.4a\n",
        "print('Evaluasi Coefficient:')\n",
        "print(Belajar.coef_)\n",
        "print(\"\")\n",
        "# ANALISIS: berdasarkan hasil coefficient maka dapat dilihat jika\n",
        "# peningkatan pada PassengerId dapat menyebabkan penurunan sebesar -4.58 pada jumlah awak yang selamat\n",
        "# peningkatan pada Pclass dapat menyebabkan penurunan sebesar -2.30 pada jumlah awak yang selamat\n",
        "# peningkatan pada Age dapat menyebabkan penurunan sebesar -7.48 pada jumlah awak yang selamat\n",
        "# peningkatan pada SibSp dapat menyebabkan penurunan sebesar -2.61 pada jumlah awak yang selamat\n",
        "# peningkatan pada Parch dapat menyebabkan peningkatan sebesar 5,2 pada jumlah awak yang selamat\n",
        "# sehingga dapat dilihat jika age, Parch dan Passenger Id memiliki pengaruh yang besar terhadap keselamatan awak\n",
        " \n",
        "# No.4b\n",
        "print('Evaluasi Metrics:')\n",
        "print(\"MAE: \" , metrics.mean_absolute_error(y_test,hasilPrediksi))\n",
        "print(\"MSE: \" , metrics.mean_squared_error(y_test,hasilPrediksi))\n",
        "print(\"RMSE: \" , np.sqrt(metrics.mean_squared_error(y_test,hasilPrediksi)))\n",
        "print(\"Mean survived:\", Survived.mean())\n",
        "# ANALISIS:Berdasarkan hasil output, dapat dilihat jika hasil Metrics RMSE SEBESAR 0,43 yang artinya lebih besar dari 10% rata-rata awak yang selamat\n",
        "# hal ini pun dapat disimpulkan jika hasil algorithma tidak terlalu akurat namun prediksi dapat berjalan cukup baik\n"
      ],
      "execution_count": 14,
      "outputs": [
        {
          "output_type": "stream",
          "text": [
            "Evaluasi Coefficient:\n",
            "[-2.75713272e-05 -2.38917956e-01 -8.45832235e-03 -2.48423952e-02\n",
            "  4.91927724e-02]\n",
            "\n",
            "Evaluasi Metrics:\n",
            "MAE:  0.40032219912182915\n",
            "MSE:  0.20529755575952774\n",
            "RMSE:  0.45309773312115315\n",
            "Mean survived: 0.3838383838383838\n"
          ],
          "name": "stdout"
        }
      ]
    },
    {
      "cell_type": "code",
      "metadata": {
        "id": "P1qfahpwTmMo",
        "outputId": "459b185b-ea75-466a-d605-7ea326afeff2",
        "colab": {
          "base_uri": "https://localhost:8080/",
          "height": 265
        }
      },
      "source": [
        "# No.5\n",
        "\n",
        "import pandas as pd\n",
        "import numpy as np\n",
        "from sklearn.linear_model import LinearRegression\n",
        "import matplotlib.pyplot as plt\n",
        "from sklearn.model_selection import train_test_split\n",
        "from sklearn import metrics\n",
        "\n",
        "data= pd.read_csv('/input/titanic.txt')\n",
        "Survived=data['Survived']\n",
        "del data['Name']\n",
        "del data['Sex']\n",
        "del data['Ticket']\n",
        "del data['Fare']\n",
        "del data['Cabin']\n",
        "del data['Embarked']\n",
        "  \n",
        "data=data.fillna(data.mean())\n",
        "y=data.Survived\n",
        "x=data.drop('Survived',axis=1)\n",
        "x_train,x_test,y_train,y_test=train_test_split(x,y,test_size=0.3)\n",
        "\n",
        "Belajar=LinearRegression().fit(x_train,y_train)\n",
        "hasilPrediksi=Belajar.predict(x_test)\n",
        "# No.5\n",
        "# untuk menghasilkan Plot Predicted Value vs Measure\n",
        "plt.scatter(y_test,hasilPrediksi,color='Pink')\n",
        "plt.show()\n",
        "# ANALISIS: Berdasarkan hasil output dapat dilihat jika x adalah measure dan y adalah plot Predicted value sehingga dapat dilihat jika hasil prediksi sudah cukup baik"
      ],
      "execution_count": 15,
      "outputs": [
        {
          "output_type": "display_data",
          "data": {
            "image/png": "[encoded data removed]",
            "text/plain": [
              "<Figure size 432x288 with 1 Axes>"
            ]
          },
          "metadata": {
            "tags": [],
            "needs_background": "light"
          }
        }
      ]
    }
  ]
}